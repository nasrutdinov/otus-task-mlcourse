{
 "cells": [
  {
   "cell_type": "markdown",
   "metadata": {},
   "source": [
    "<center><h1>Support Vector Machine (Машина Опорных Векторов)</h1></center>"
   ]
  },
  {
   "cell_type": "markdown",
   "metadata": {},
   "source": [
    "Домашнее задание\n",
    "Построение SVM и выбор оптимального ядра.\n",
    "Цель: Цель данного ДЗ - \"потрогать\" алгоритм SVM на практике. Возьмите один из двух датасетов (или выберете свой) и попробуйте получить на нем максимальные метрики качества, используя алгоритм SVM. Проведите сравнение с Логистической регрессией. Используйте техники Feature Preprocessing, изученные ранее. Два датасета: \n",
    "\n",
    "__1) https://archive.ics.uci.edu/ml/datasets/IDA2016Challenge__\n",
    "\n",
    "2) https://www.kaggle.com/c/bnp-paribas-cardif-claims-management/overview \n",
    "\n",
    "С обоими датасетами вы уже знакомы - один был в ДЗб другой на лекции про Feature Preprocessing.\n",
    "1) Возьмите датасет, выполните предобработку\n",
    "2) Попробуйте изученные алгоритмы: kNN, Logistic Regression, SVM\n",
    "3) Выполните настройку гиперпараметров для SVM (выбрать те параметры (ядро, регуляризацияб и тд) при которых метрики максимальны)\n",
    "4*) Настройку гиперпараметров можно проводить используя GridSearchCV в реализации sklearn.\n",
    "Критерии оценки: - Выполнена предобработка данных, преобразования признаков, посчитаны базовые статистики\n",
    "- Построено хотя бы два алгоритма и показана разница результатов (или отсутствие разницы)\n",
    "- Обучен SVM, выполнен подбор гиперпараметров\n",
    "Рекомендуем сдать до: 13.01.2020 "
   ]
  },
  {
   "cell_type": "markdown",
   "metadata": {},
   "source": [
    "Импорт необходимых библиотек перед переходом к ноутбуку:"
   ]
  },
  {
   "cell_type": "code",
   "execution_count": 34,
   "metadata": {},
   "outputs": [
    {
     "data": {
      "text/html": [
       "<div>\n",
       "<style>\n",
       "    .dataframe thead tr:only-child th {\n",
       "        text-align: right;\n",
       "    }\n",
       "\n",
       "    .dataframe thead th {\n",
       "        text-align: left;\n",
       "    }\n",
       "\n",
       "    .dataframe tbody tr th {\n",
       "        vertical-align: top;\n",
       "    }\n",
       "</style>\n",
       "<table border=\"1\" class=\"dataframe\">\n",
       "  <thead>\n",
       "    <tr style=\"text-align: right;\">\n",
       "      <th></th>\n",
       "      <th>Accuracy</th>\n",
       "      <th>Precision</th>\n",
       "      <th>Recall</th>\n",
       "      <th>f1_score</th>\n",
       "      <th>ROC-AUC</th>\n",
       "    </tr>\n",
       "  </thead>\n",
       "  <tbody>\n",
       "    <tr>\n",
       "      <th>log_reg</th>\n",
       "      <td>0.94382</td>\n",
       "      <td>0.913043</td>\n",
       "      <td>0.724138</td>\n",
       "      <td>0.807692</td>\n",
       "      <td>0.855358</td>\n",
       "    </tr>\n",
       "    <tr>\n",
       "      <th>knn</th>\n",
       "      <td>0.926966</td>\n",
       "      <td>0.434783</td>\n",
       "      <td>1</td>\n",
       "      <td>0.606061</td>\n",
       "      <td>0.96131</td>\n",
       "    </tr>\n",
       "    <tr>\n",
       "      <th>svm_1</th>\n",
       "      <td>0.938202</td>\n",
       "      <td>0.913043</td>\n",
       "      <td>0.7</td>\n",
       "      <td>0.792453</td>\n",
       "      <td>0.843243</td>\n",
       "    </tr>\n",
       "    <tr>\n",
       "      <th>svm_best</th>\n",
       "      <td>0.949438</td>\n",
       "      <td>0.73913</td>\n",
       "      <td>0.85</td>\n",
       "      <td>0.790698</td>\n",
       "      <td>0.906013</td>\n",
       "    </tr>\n",
       "  </tbody>\n",
       "</table>\n",
       "</div>"
      ],
      "text/plain": [
       "          Accuracy Precision    Recall  f1_score   ROC-AUC\n",
       "log_reg    0.94382  0.913043  0.724138  0.807692  0.855358\n",
       "knn       0.926966  0.434783         1  0.606061   0.96131\n",
       "svm_1     0.938202  0.913043       0.7  0.792453  0.843243\n",
       "svm_best  0.949438   0.73913      0.85  0.790698  0.906013"
      ]
     },
     "execution_count": 34,
     "metadata": {},
     "output_type": "execute_result"
    }
   ],
   "source": [
    "#Итоговая таблица\n",
    "df_quality"
   ]
  },
  {
   "cell_type": "code",
   "execution_count": 1,
   "metadata": {
    "collapsed": true
   },
   "outputs": [],
   "source": [
    "import pandas as pd\n",
    "import numpy as np\n",
    "#from tqdm import tqdm_notebook\n",
    "\n",
    "from sklearn.datasets import make_classification, make_circles\n",
    "from sklearn import svm\n",
    "from sklearn.linear_model import LogisticRegression\n",
    "from sklearn.model_selection import train_test_split\n",
    "from sklearn.metrics import roc_auc_score, mean_squared_error, \\\n",
    "    accuracy_score, precision_score, recall_score, f1_score\n",
    "from sklearn.preprocessing import StandardScaler, MinMaxScaler\n",
    "\n",
    "import seaborn as sns\n",
    "import matplotlib.pyplot as plt\n",
    "from mpl_toolkits import mplot3d\n",
    "plt.style.use(\"ggplot\")\n",
    "\n",
    "import warnings\n",
    "warnings.filterwarnings(\"ignore\")"
   ]
  },
  {
   "cell_type": "code",
   "execution_count": 2,
   "metadata": {
    "collapsed": true
   },
   "outputs": [],
   "source": [
    "df=pd.read_csv(\"aps_failure_training_set.csv\", na_values=\"na\")"
   ]
  },
  {
   "cell_type": "code",
   "execution_count": 3,
   "metadata": {},
   "outputs": [
    {
     "data": {
      "text/html": [
       "<div>\n",
       "<style>\n",
       "    .dataframe thead tr:only-child th {\n",
       "        text-align: right;\n",
       "    }\n",
       "\n",
       "    .dataframe thead th {\n",
       "        text-align: left;\n",
       "    }\n",
       "\n",
       "    .dataframe tbody tr th {\n",
       "        vertical-align: top;\n",
       "    }\n",
       "</style>\n",
       "<table border=\"1\" class=\"dataframe\">\n",
       "  <thead>\n",
       "    <tr style=\"text-align: right;\">\n",
       "      <th></th>\n",
       "      <th>class</th>\n",
       "      <th>aa_000</th>\n",
       "      <th>ab_000</th>\n",
       "      <th>ac_000</th>\n",
       "      <th>ad_000</th>\n",
       "      <th>ae_000</th>\n",
       "      <th>af_000</th>\n",
       "      <th>ag_000</th>\n",
       "      <th>ag_001</th>\n",
       "      <th>ag_002</th>\n",
       "      <th>...</th>\n",
       "      <th>ee_002</th>\n",
       "      <th>ee_003</th>\n",
       "      <th>ee_004</th>\n",
       "      <th>ee_005</th>\n",
       "      <th>ee_006</th>\n",
       "      <th>ee_007</th>\n",
       "      <th>ee_008</th>\n",
       "      <th>ee_009</th>\n",
       "      <th>ef_000</th>\n",
       "      <th>eg_000</th>\n",
       "    </tr>\n",
       "  </thead>\n",
       "  <tbody>\n",
       "    <tr>\n",
       "      <th>0</th>\n",
       "      <td>neg</td>\n",
       "      <td>76698</td>\n",
       "      <td>NaN</td>\n",
       "      <td>2.130706e+09</td>\n",
       "      <td>280.0</td>\n",
       "      <td>0.0</td>\n",
       "      <td>0.0</td>\n",
       "      <td>0.0</td>\n",
       "      <td>0.0</td>\n",
       "      <td>0.0</td>\n",
       "      <td>...</td>\n",
       "      <td>1240520.0</td>\n",
       "      <td>493384.0</td>\n",
       "      <td>721044.0</td>\n",
       "      <td>469792.0</td>\n",
       "      <td>339156.0</td>\n",
       "      <td>157956.0</td>\n",
       "      <td>73224.0</td>\n",
       "      <td>0.0</td>\n",
       "      <td>0.0</td>\n",
       "      <td>0.0</td>\n",
       "    </tr>\n",
       "    <tr>\n",
       "      <th>1</th>\n",
       "      <td>neg</td>\n",
       "      <td>33058</td>\n",
       "      <td>NaN</td>\n",
       "      <td>0.000000e+00</td>\n",
       "      <td>NaN</td>\n",
       "      <td>0.0</td>\n",
       "      <td>0.0</td>\n",
       "      <td>0.0</td>\n",
       "      <td>0.0</td>\n",
       "      <td>0.0</td>\n",
       "      <td>...</td>\n",
       "      <td>421400.0</td>\n",
       "      <td>178064.0</td>\n",
       "      <td>293306.0</td>\n",
       "      <td>245416.0</td>\n",
       "      <td>133654.0</td>\n",
       "      <td>81140.0</td>\n",
       "      <td>97576.0</td>\n",
       "      <td>1500.0</td>\n",
       "      <td>0.0</td>\n",
       "      <td>0.0</td>\n",
       "    </tr>\n",
       "    <tr>\n",
       "      <th>2</th>\n",
       "      <td>neg</td>\n",
       "      <td>41040</td>\n",
       "      <td>NaN</td>\n",
       "      <td>2.280000e+02</td>\n",
       "      <td>100.0</td>\n",
       "      <td>0.0</td>\n",
       "      <td>0.0</td>\n",
       "      <td>0.0</td>\n",
       "      <td>0.0</td>\n",
       "      <td>0.0</td>\n",
       "      <td>...</td>\n",
       "      <td>277378.0</td>\n",
       "      <td>159812.0</td>\n",
       "      <td>423992.0</td>\n",
       "      <td>409564.0</td>\n",
       "      <td>320746.0</td>\n",
       "      <td>158022.0</td>\n",
       "      <td>95128.0</td>\n",
       "      <td>514.0</td>\n",
       "      <td>0.0</td>\n",
       "      <td>0.0</td>\n",
       "    </tr>\n",
       "    <tr>\n",
       "      <th>3</th>\n",
       "      <td>neg</td>\n",
       "      <td>12</td>\n",
       "      <td>0.0</td>\n",
       "      <td>7.000000e+01</td>\n",
       "      <td>66.0</td>\n",
       "      <td>0.0</td>\n",
       "      <td>10.0</td>\n",
       "      <td>0.0</td>\n",
       "      <td>0.0</td>\n",
       "      <td>0.0</td>\n",
       "      <td>...</td>\n",
       "      <td>240.0</td>\n",
       "      <td>46.0</td>\n",
       "      <td>58.0</td>\n",
       "      <td>44.0</td>\n",
       "      <td>10.0</td>\n",
       "      <td>0.0</td>\n",
       "      <td>0.0</td>\n",
       "      <td>0.0</td>\n",
       "      <td>4.0</td>\n",
       "      <td>32.0</td>\n",
       "    </tr>\n",
       "    <tr>\n",
       "      <th>4</th>\n",
       "      <td>neg</td>\n",
       "      <td>60874</td>\n",
       "      <td>NaN</td>\n",
       "      <td>1.368000e+03</td>\n",
       "      <td>458.0</td>\n",
       "      <td>0.0</td>\n",
       "      <td>0.0</td>\n",
       "      <td>0.0</td>\n",
       "      <td>0.0</td>\n",
       "      <td>0.0</td>\n",
       "      <td>...</td>\n",
       "      <td>622012.0</td>\n",
       "      <td>229790.0</td>\n",
       "      <td>405298.0</td>\n",
       "      <td>347188.0</td>\n",
       "      <td>286954.0</td>\n",
       "      <td>311560.0</td>\n",
       "      <td>433954.0</td>\n",
       "      <td>1218.0</td>\n",
       "      <td>0.0</td>\n",
       "      <td>0.0</td>\n",
       "    </tr>\n",
       "  </tbody>\n",
       "</table>\n",
       "<p>5 rows × 171 columns</p>\n",
       "</div>"
      ],
      "text/plain": [
       "  class  aa_000  ab_000        ac_000  ad_000  ae_000  af_000  ag_000  ag_001  \\\n",
       "0   neg   76698     NaN  2.130706e+09   280.0     0.0     0.0     0.0     0.0   \n",
       "1   neg   33058     NaN  0.000000e+00     NaN     0.0     0.0     0.0     0.0   \n",
       "2   neg   41040     NaN  2.280000e+02   100.0     0.0     0.0     0.0     0.0   \n",
       "3   neg      12     0.0  7.000000e+01    66.0     0.0    10.0     0.0     0.0   \n",
       "4   neg   60874     NaN  1.368000e+03   458.0     0.0     0.0     0.0     0.0   \n",
       "\n",
       "   ag_002   ...       ee_002    ee_003    ee_004    ee_005    ee_006  \\\n",
       "0     0.0   ...    1240520.0  493384.0  721044.0  469792.0  339156.0   \n",
       "1     0.0   ...     421400.0  178064.0  293306.0  245416.0  133654.0   \n",
       "2     0.0   ...     277378.0  159812.0  423992.0  409564.0  320746.0   \n",
       "3     0.0   ...        240.0      46.0      58.0      44.0      10.0   \n",
       "4     0.0   ...     622012.0  229790.0  405298.0  347188.0  286954.0   \n",
       "\n",
       "     ee_007    ee_008  ee_009  ef_000  eg_000  \n",
       "0  157956.0   73224.0     0.0     0.0     0.0  \n",
       "1   81140.0   97576.0  1500.0     0.0     0.0  \n",
       "2  158022.0   95128.0   514.0     0.0     0.0  \n",
       "3       0.0       0.0     0.0     4.0    32.0  \n",
       "4  311560.0  433954.0  1218.0     0.0     0.0  \n",
       "\n",
       "[5 rows x 171 columns]"
      ]
     },
     "execution_count": 3,
     "metadata": {},
     "output_type": "execute_result"
    }
   ],
   "source": [
    "df.head()"
   ]
  },
  {
   "cell_type": "code",
   "execution_count": 4,
   "metadata": {},
   "outputs": [
    {
     "data": {
      "text/plain": [
       "(60000, 171)"
      ]
     },
     "execution_count": 4,
     "metadata": {},
     "output_type": "execute_result"
    }
   ],
   "source": [
    "df.shape"
   ]
  },
  {
   "cell_type": "code",
   "execution_count": 5,
   "metadata": {},
   "outputs": [
    {
     "name": "stdout",
     "output_type": "stream",
     "text": [
      "<class 'pandas.core.frame.DataFrame'>\n",
      "RangeIndex: 60000 entries, 0 to 59999\n",
      "Columns: 171 entries, class to eg_000\n",
      "dtypes: float64(169), int64(1), object(1)\n",
      "memory usage: 78.3+ MB\n"
     ]
    }
   ],
   "source": [
    "df.info()"
   ]
  },
  {
   "cell_type": "code",
   "execution_count": 6,
   "metadata": {
    "collapsed": true
   },
   "outputs": [],
   "source": [
    "df.rename(columns={\"class\":\"target\"},inplace=True)"
   ]
  },
  {
   "cell_type": "code",
   "execution_count": 7,
   "metadata": {
    "collapsed": true
   },
   "outputs": [],
   "source": [
    "df.replace(\"neg\", -1,inplace=True)\n",
    "df.replace(\"pos\",  1,inplace=True)"
   ]
  },
  {
   "cell_type": "code",
   "execution_count": 8,
   "metadata": {},
   "outputs": [
    {
     "name": "stdout",
     "output_type": "stream",
     "text": [
      "163\n"
     ]
    }
   ],
   "source": [
    "print(sum(df.isnull().sum()/df.shape[0]<0.5))"
   ]
  },
  {
   "cell_type": "markdown",
   "metadata": {},
   "source": [
    "Количество столбцов с заполнением больше 50 % всего 8 из 171. Остальные столбцы с большим количеством отсутствующих данных. Выбросил строки с отсутствующими данными. "
   ]
  },
  {
   "cell_type": "markdown",
   "metadata": {},
   "source": [
    "# EDA"
   ]
  },
  {
   "cell_type": "code",
   "execution_count": 9,
   "metadata": {
    "collapsed": true
   },
   "outputs": [],
   "source": [
    "target_var='target'"
   ]
  },
  {
   "cell_type": "code",
   "execution_count": 10,
   "metadata": {
    "collapsed": true
   },
   "outputs": [],
   "source": [
    "numeric_types = ['int16','int32','int64','float16','float32','float64']\n",
    "numerical_vars = list(df.select_dtypes(include=numeric_types).columns)\n",
    "object_vars = list(df.select_dtypes(include=[\"object\"]).columns)"
   ]
  },
  {
   "cell_type": "code",
   "execution_count": 11,
   "metadata": {
    "collapsed": true
   },
   "outputs": [],
   "source": [
    "data_num = df[numerical_vars].copy()\n",
    "data_obj = df[object_vars].copy()"
   ]
  },
  {
   "cell_type": "code",
   "execution_count": 12,
   "metadata": {},
   "outputs": [
    {
     "data": {
      "text/html": [
       "<div>\n",
       "<style>\n",
       "    .dataframe thead tr:only-child th {\n",
       "        text-align: right;\n",
       "    }\n",
       "\n",
       "    .dataframe thead th {\n",
       "        text-align: left;\n",
       "    }\n",
       "\n",
       "    .dataframe tbody tr th {\n",
       "        vertical-align: top;\n",
       "    }\n",
       "</style>\n",
       "<table border=\"1\" class=\"dataframe\">\n",
       "  <thead>\n",
       "    <tr style=\"text-align: right;\">\n",
       "      <th></th>\n",
       "      <th>target</th>\n",
       "      <th>aa_000</th>\n",
       "      <th>ab_000</th>\n",
       "      <th>ac_000</th>\n",
       "      <th>ad_000</th>\n",
       "      <th>ae_000</th>\n",
       "      <th>af_000</th>\n",
       "      <th>ag_000</th>\n",
       "      <th>ag_001</th>\n",
       "      <th>ag_002</th>\n",
       "      <th>...</th>\n",
       "      <th>ee_002</th>\n",
       "      <th>ee_003</th>\n",
       "      <th>ee_004</th>\n",
       "      <th>ee_005</th>\n",
       "      <th>ee_006</th>\n",
       "      <th>ee_007</th>\n",
       "      <th>ee_008</th>\n",
       "      <th>ee_009</th>\n",
       "      <th>ef_000</th>\n",
       "      <th>eg_000</th>\n",
       "    </tr>\n",
       "  </thead>\n",
       "  <tbody>\n",
       "    <tr>\n",
       "      <th>0</th>\n",
       "      <td>-1</td>\n",
       "      <td>76698</td>\n",
       "      <td>NaN</td>\n",
       "      <td>2.130706e+09</td>\n",
       "      <td>280.0</td>\n",
       "      <td>0.0</td>\n",
       "      <td>0.0</td>\n",
       "      <td>0.0</td>\n",
       "      <td>0.0</td>\n",
       "      <td>0.0</td>\n",
       "      <td>...</td>\n",
       "      <td>1240520.0</td>\n",
       "      <td>493384.0</td>\n",
       "      <td>721044.0</td>\n",
       "      <td>469792.0</td>\n",
       "      <td>339156.0</td>\n",
       "      <td>157956.0</td>\n",
       "      <td>73224.0</td>\n",
       "      <td>0.0</td>\n",
       "      <td>0.0</td>\n",
       "      <td>0.0</td>\n",
       "    </tr>\n",
       "    <tr>\n",
       "      <th>1</th>\n",
       "      <td>-1</td>\n",
       "      <td>33058</td>\n",
       "      <td>NaN</td>\n",
       "      <td>0.000000e+00</td>\n",
       "      <td>NaN</td>\n",
       "      <td>0.0</td>\n",
       "      <td>0.0</td>\n",
       "      <td>0.0</td>\n",
       "      <td>0.0</td>\n",
       "      <td>0.0</td>\n",
       "      <td>...</td>\n",
       "      <td>421400.0</td>\n",
       "      <td>178064.0</td>\n",
       "      <td>293306.0</td>\n",
       "      <td>245416.0</td>\n",
       "      <td>133654.0</td>\n",
       "      <td>81140.0</td>\n",
       "      <td>97576.0</td>\n",
       "      <td>1500.0</td>\n",
       "      <td>0.0</td>\n",
       "      <td>0.0</td>\n",
       "    </tr>\n",
       "    <tr>\n",
       "      <th>2</th>\n",
       "      <td>-1</td>\n",
       "      <td>41040</td>\n",
       "      <td>NaN</td>\n",
       "      <td>2.280000e+02</td>\n",
       "      <td>100.0</td>\n",
       "      <td>0.0</td>\n",
       "      <td>0.0</td>\n",
       "      <td>0.0</td>\n",
       "      <td>0.0</td>\n",
       "      <td>0.0</td>\n",
       "      <td>...</td>\n",
       "      <td>277378.0</td>\n",
       "      <td>159812.0</td>\n",
       "      <td>423992.0</td>\n",
       "      <td>409564.0</td>\n",
       "      <td>320746.0</td>\n",
       "      <td>158022.0</td>\n",
       "      <td>95128.0</td>\n",
       "      <td>514.0</td>\n",
       "      <td>0.0</td>\n",
       "      <td>0.0</td>\n",
       "    </tr>\n",
       "    <tr>\n",
       "      <th>3</th>\n",
       "      <td>-1</td>\n",
       "      <td>12</td>\n",
       "      <td>0.0</td>\n",
       "      <td>7.000000e+01</td>\n",
       "      <td>66.0</td>\n",
       "      <td>0.0</td>\n",
       "      <td>10.0</td>\n",
       "      <td>0.0</td>\n",
       "      <td>0.0</td>\n",
       "      <td>0.0</td>\n",
       "      <td>...</td>\n",
       "      <td>240.0</td>\n",
       "      <td>46.0</td>\n",
       "      <td>58.0</td>\n",
       "      <td>44.0</td>\n",
       "      <td>10.0</td>\n",
       "      <td>0.0</td>\n",
       "      <td>0.0</td>\n",
       "      <td>0.0</td>\n",
       "      <td>4.0</td>\n",
       "      <td>32.0</td>\n",
       "    </tr>\n",
       "    <tr>\n",
       "      <th>4</th>\n",
       "      <td>-1</td>\n",
       "      <td>60874</td>\n",
       "      <td>NaN</td>\n",
       "      <td>1.368000e+03</td>\n",
       "      <td>458.0</td>\n",
       "      <td>0.0</td>\n",
       "      <td>0.0</td>\n",
       "      <td>0.0</td>\n",
       "      <td>0.0</td>\n",
       "      <td>0.0</td>\n",
       "      <td>...</td>\n",
       "      <td>622012.0</td>\n",
       "      <td>229790.0</td>\n",
       "      <td>405298.0</td>\n",
       "      <td>347188.0</td>\n",
       "      <td>286954.0</td>\n",
       "      <td>311560.0</td>\n",
       "      <td>433954.0</td>\n",
       "      <td>1218.0</td>\n",
       "      <td>0.0</td>\n",
       "      <td>0.0</td>\n",
       "    </tr>\n",
       "  </tbody>\n",
       "</table>\n",
       "<p>5 rows × 171 columns</p>\n",
       "</div>"
      ],
      "text/plain": [
       "   target  aa_000  ab_000        ac_000  ad_000  ae_000  af_000  ag_000  \\\n",
       "0      -1   76698     NaN  2.130706e+09   280.0     0.0     0.0     0.0   \n",
       "1      -1   33058     NaN  0.000000e+00     NaN     0.0     0.0     0.0   \n",
       "2      -1   41040     NaN  2.280000e+02   100.0     0.0     0.0     0.0   \n",
       "3      -1      12     0.0  7.000000e+01    66.0     0.0    10.0     0.0   \n",
       "4      -1   60874     NaN  1.368000e+03   458.0     0.0     0.0     0.0   \n",
       "\n",
       "   ag_001  ag_002   ...       ee_002    ee_003    ee_004    ee_005    ee_006  \\\n",
       "0     0.0     0.0   ...    1240520.0  493384.0  721044.0  469792.0  339156.0   \n",
       "1     0.0     0.0   ...     421400.0  178064.0  293306.0  245416.0  133654.0   \n",
       "2     0.0     0.0   ...     277378.0  159812.0  423992.0  409564.0  320746.0   \n",
       "3     0.0     0.0   ...        240.0      46.0      58.0      44.0      10.0   \n",
       "4     0.0     0.0   ...     622012.0  229790.0  405298.0  347188.0  286954.0   \n",
       "\n",
       "     ee_007    ee_008  ee_009  ef_000  eg_000  \n",
       "0  157956.0   73224.0     0.0     0.0     0.0  \n",
       "1   81140.0   97576.0  1500.0     0.0     0.0  \n",
       "2  158022.0   95128.0   514.0     0.0     0.0  \n",
       "3       0.0       0.0     0.0     4.0    32.0  \n",
       "4  311560.0  433954.0  1218.0     0.0     0.0  \n",
       "\n",
       "[5 rows x 171 columns]"
      ]
     },
     "execution_count": 12,
     "metadata": {},
     "output_type": "execute_result"
    }
   ],
   "source": [
    "data_num.head()"
   ]
  },
  {
   "cell_type": "markdown",
   "metadata": {},
   "source": [
    "Все данные числовые. Текстовых данных нет"
   ]
  },
  {
   "cell_type": "code",
   "execution_count": 13,
   "metadata": {
    "collapsed": true
   },
   "outputs": [],
   "source": [
    "#Импорт метрик\n",
    "from sklearn.metrics import accuracy_score, precision_score, recall_score, f1_score"
   ]
  },
  {
   "cell_type": "code",
   "execution_count": 14,
   "metadata": {
    "collapsed": true
   },
   "outputs": [],
   "source": [
    "#Отчет о точности\n",
    "def quality_report(prediction, actual, verbose=True):\n",
    "    report_str = \"Accuracy: \\t {:.3f}\\n\" +\\\n",
    "                 \"Precision: \\t {:.3f}\\n\" +\\\n",
    "                 \"Recall: \\t {:.3f}\\n\" +\\\n",
    "                 \"f1_score: \\t {:.3f}\\n\" +\\\n",
    "                 \"ROC-AUC: \\t {:.3f}\"\n",
    "    \n",
    "    acc = accuracy_score(prediction, actual)\n",
    "    precision = precision_score(prediction, actual)\n",
    "    recall = recall_score(prediction, actual)\n",
    "    f1 = f1_score(prediction, actual)\n",
    "    rocauc = roc_auc_score(prediction, actual)\n",
    "    \n",
    "    quality_list = [acc, precision, recall, f1, rocauc]\n",
    "    \n",
    "    if verbose:\n",
    "        print(\"\\n=== Quality Report ===\")\n",
    "        print(report_str.format(\n",
    "            accuracy_score(prediction, actual),\n",
    "            precision_score(prediction, actual),\n",
    "            recall_score(prediction, actual),\n",
    "            f1_score(prediction, actual),\n",
    "            roc_auc_score(prediction, actual)\n",
    "        ))\n",
    "        print(\"======================\\n\")\n",
    "    \n",
    "    return quality_list"
   ]
  },
  {
   "cell_type": "code",
   "execution_count": 15,
   "metadata": {
    "collapsed": true
   },
   "outputs": [],
   "source": [
    "#Разделение данных на тестовую и обучающие выборки\n",
    "def data_split_train_test(data, test_size=0.3):\n",
    "    X_train, X_test, y_train, y_test = train_test_split(\n",
    "    data.drop(labels=['target'], axis=1),\n",
    "    data['target'],\n",
    "    test_size=test_size,\n",
    "    stratify=data['target'],\n",
    "    random_state=0)\n",
    "\n",
    "    print(\"Train_shape:\", X_train.shape, \"Test shape:\", X_test.shape)\n",
    "    \n",
    "    return X_train, X_test, y_train, y_test"
   ]
  },
  {
   "cell_type": "code",
   "execution_count": 16,
   "metadata": {
    "collapsed": true
   },
   "outputs": [],
   "source": [
    "#Логистическая регрессия\n",
    "\n",
    "from sklearn.preprocessing import StandardScaler\n",
    "from sklearn.model_selection import train_test_split\n",
    "from sklearn.metrics import accuracy_score, precision_score, recall_score, f1_score\n",
    "from sklearn.linear_model import LogisticRegression, LogisticRegressionCV"
   ]
  },
  {
   "cell_type": "code",
   "execution_count": 17,
   "metadata": {},
   "outputs": [
    {
     "name": "stdout",
     "output_type": "stream",
     "text": [
      "Train_shape: (42000, 170) Test shape: (18000, 170)\n"
     ]
    }
   ],
   "source": [
    "X_train, X_test, y_train, y_test = data_split_train_test(df)"
   ]
  },
  {
   "cell_type": "code",
   "execution_count": 18,
   "metadata": {
    "collapsed": true
   },
   "outputs": [],
   "source": [
    "scaler = StandardScaler()"
   ]
  },
  {
   "cell_type": "code",
   "execution_count": 19,
   "metadata": {
    "collapsed": true
   },
   "outputs": [],
   "source": [
    "data_num_wo_nan = df.dropna()"
   ]
  },
  {
   "cell_type": "code",
   "execution_count": 20,
   "metadata": {},
   "outputs": [
    {
     "name": "stdout",
     "output_type": "stream",
     "text": [
      "Train_shape: (413, 170) Test shape: (178, 170)\n"
     ]
    }
   ],
   "source": [
    "X_train, X_test, y_train, y_test = data_split_train_test(data_num_wo_nan)"
   ]
  },
  {
   "cell_type": "code",
   "execution_count": 21,
   "metadata": {},
   "outputs": [],
   "source": [
    "X_train_scaled = scaler.fit_transform(X_train)\n",
    "X_test_scaled = scaler.transform(X_test)"
   ]
  },
  {
   "cell_type": "code",
   "execution_count": 22,
   "metadata": {},
   "outputs": [],
   "source": [
    "df_quality= pd.DataFrame(columns=['Accuracy','Precision','Recall', 'f1_score', 'ROC-AUC'])"
   ]
  },
  {
   "cell_type": "code",
   "execution_count": 23,
   "metadata": {},
   "outputs": [
    {
     "name": "stdout",
     "output_type": "stream",
     "text": [
      "Train quality:\n",
      "\n",
      "=== Quality Report ===\n",
      "Accuracy: \t 1.000\n",
      "Precision: \t 1.000\n",
      "Recall: \t 1.000\n",
      "f1_score: \t 1.000\n",
      "ROC-AUC: \t 1.000\n",
      "======================\n",
      "\n",
      "\n",
      " Test quality:\n",
      "\n",
      "=== Quality Report ===\n",
      "Accuracy: \t 0.944\n",
      "Precision: \t 0.913\n",
      "Recall: \t 0.724\n",
      "f1_score: \t 0.808\n",
      "ROC-AUC: \t 0.855\n",
      "======================\n",
      "\n",
      "\n",
      "=== Quality Report ===\n",
      "Accuracy: \t 0.944\n",
      "Precision: \t 0.913\n",
      "Recall: \t 0.724\n",
      "f1_score: \t 0.808\n",
      "ROC-AUC: \t 0.855\n",
      "======================\n",
      "\n"
     ]
    }
   ],
   "source": [
    "log_reg = LogisticRegression();\n",
    "\n",
    "log_reg.fit(X_train_scaled, y_train);\n",
    "print(\"Train quality:\")\n",
    "quality_report(log_reg.predict(X_train_scaled), y_train);\n",
    "print(\"\\n Test quality:\")\n",
    "quality_report(log_reg.predict(X_test_scaled), y_test);\n",
    "\n",
    "df_quality.loc[\"log_reg\", :] = quality_report(log_reg.predict(X_test_scaled), y_test);\n"
   ]
  },
  {
   "cell_type": "code",
   "execution_count": 24,
   "metadata": {
    "collapsed": true
   },
   "outputs": [],
   "source": [
    "#knn\n",
    "from sklearn.neighbors import KNeighborsClassifier"
   ]
  },
  {
   "cell_type": "code",
   "execution_count": 25,
   "metadata": {},
   "outputs": [
    {
     "name": "stdout",
     "output_type": "stream",
     "text": [
      "Best CV score: 0.675, best CV k: 1\n",
      "Resulting test score: 0.651\n"
     ]
    }
   ],
   "source": [
    "#Подбираем число соседей\n",
    "#%%time\n",
    "from sklearn.model_selection import GridSearchCV\n",
    "\n",
    "param_grid = {\n",
    "        'n_neighbors': range(1, 20),\n",
    "        'p': range(1, 4)\n",
    "}\n",
    "\n",
    "knn = KNeighborsClassifier()\n",
    "\n",
    "grid_search = GridSearchCV(knn, param_grid, cv=5, scoring='f1')\n",
    "grid_search.fit(X_train_scaled, y_train)\n",
    "\n",
    "print(\"Best CV score: {:.3f}, best CV k: {}\".format(\n",
    "    grid_search.best_score_, grid_search.best_estimator_.n_neighbors)\n",
    ") \n",
    "\n",
    "\n",
    "test_predictions = grid_search.best_estimator_.predict(X_test_scaled)\n",
    "print(\"Resulting test score: {:.3f}\".format(f1_score(test_predictions, y_test)))"
   ]
  },
  {
   "cell_type": "code",
   "execution_count": 26,
   "metadata": {},
   "outputs": [
    {
     "name": "stdout",
     "output_type": "stream",
     "text": [
      "\n",
      "=== Quality Report ===\n",
      "Accuracy: \t 0.935\n",
      "Precision: \t 0.491\n",
      "Recall: \t 1.000\n",
      "f1_score: \t 0.658\n",
      "ROC-AUC: \t 0.965\n",
      "======================\n",
      "\n",
      "\n",
      " Test quality:\n",
      "\n",
      "=== Quality Report ===\n",
      "Accuracy: \t 0.927\n",
      "Precision: \t 0.435\n",
      "Recall: \t 1.000\n",
      "f1_score: \t 0.606\n",
      "ROC-AUC: \t 0.961\n",
      "======================\n",
      "\n"
     ]
    }
   ],
   "source": [
    "knn = KNeighborsClassifier(n_neighbors=5)\n",
    "knn.fit(X_train_scaled, y_train)\n",
    "\n",
    "\n",
    "quality_report(knn.predict(X_train_scaled), y_train);\n",
    "print(\"\\n Test quality:\")\n",
    "df_quality.loc[\"knn\", :] = quality_report(knn.predict(X_test_scaled), y_test);"
   ]
  },
  {
   "cell_type": "code",
   "execution_count": 27,
   "metadata": {},
   "outputs": [
    {
     "name": "stdout",
     "output_type": "stream",
     "text": [
      "\n",
      "=== Quality Report ===\n",
      "Accuracy: \t 1.000\n",
      "Precision: \t 1.000\n",
      "Recall: \t 1.000\n",
      "f1_score: \t 1.000\n",
      "ROC-AUC: \t 1.000\n",
      "======================\n",
      "\n",
      "\n",
      " Test quality:\n",
      "\n",
      "=== Quality Report ===\n",
      "Accuracy: \t 0.938\n",
      "Precision: \t 0.913\n",
      "Recall: \t 0.700\n",
      "f1_score: \t 0.792\n",
      "ROC-AUC: \t 0.843\n",
      "======================\n",
      "\n"
     ]
    }
   ],
   "source": [
    "from sklearn import svm\n",
    "#from sklearn.svm import SVC\n",
    "lin_svm = svm.SVC(kernel='linear', C=1)\n",
    "lin_svm.fit(X_train_scaled, y_train)\n",
    "\n",
    "quality_report(lin_svm.predict(X_train_scaled), y_train);\n",
    "print(\"\\n Test quality:\")\n",
    "df_quality.loc[\"svm_1\", :] = quality_report(lin_svm.predict(X_test_scaled), y_test);"
   ]
  },
  {
   "cell_type": "code",
   "execution_count": 29,
   "metadata": {},
   "outputs": [
    {
     "name": "stdout",
     "output_type": "stream",
     "text": [
      "Fitting 3 folds for each of 25 candidates, totalling 75 fits\n",
      "[CV] C=0.1, gamma=1, kernel=rbf ......................................\n",
      "[CV] ....... C=0.1, gamma=1, kernel=rbf, score=0.869565, total=   0.0s\n",
      "[CV] C=0.1, gamma=1, kernel=rbf ......................................\n",
      "[CV] ....... C=0.1, gamma=1, kernel=rbf, score=0.869565, total=   0.0s\n",
      "[CV] C=0.1, gamma=1, kernel=rbf ......................................\n",
      "[CV] ....... C=0.1, gamma=1, kernel=rbf, score=0.875912, total=   0.0s\n",
      "[CV] C=0.1, gamma=0.1, kernel=rbf ....................................\n",
      "[CV] ..... C=0.1, gamma=0.1, kernel=rbf, score=0.869565, total=   0.0s\n",
      "[CV] C=0.1, gamma=0.1, kernel=rbf ....................................\n"
     ]
    },
    {
     "name": "stderr",
     "output_type": "stream",
     "text": [
      "[Parallel(n_jobs=1)]: Done   1 out of   1 | elapsed:    0.0s remaining:    0.0s\n",
      "[Parallel(n_jobs=1)]: Done   2 out of   2 | elapsed:    0.0s remaining:    0.0s\n"
     ]
    },
    {
     "name": "stdout",
     "output_type": "stream",
     "text": [
      "[CV] ..... C=0.1, gamma=0.1, kernel=rbf, score=0.869565, total=   0.0s\n",
      "[CV] C=0.1, gamma=0.1, kernel=rbf ....................................\n",
      "[CV] ..... C=0.1, gamma=0.1, kernel=rbf, score=0.875912, total=   0.0s\n",
      "[CV] C=0.1, gamma=0.01, kernel=rbf ...................................\n",
      "[CV] .... C=0.1, gamma=0.01, kernel=rbf, score=0.869565, total=   0.0s\n",
      "[CV] C=0.1, gamma=0.01, kernel=rbf ...................................\n",
      "[CV] .... C=0.1, gamma=0.01, kernel=rbf, score=0.869565, total=   0.0s\n",
      "[CV] C=0.1, gamma=0.01, kernel=rbf ...................................\n",
      "[CV] .... C=0.1, gamma=0.01, kernel=rbf, score=0.875912, total=   0.0s\n",
      "[CV] C=0.1, gamma=0.001, kernel=rbf ..................................\n",
      "[CV] ... C=0.1, gamma=0.001, kernel=rbf, score=0.869565, total=   0.0s\n",
      "[CV] C=0.1, gamma=0.001, kernel=rbf ..................................\n",
      "[CV] ... C=0.1, gamma=0.001, kernel=rbf, score=0.869565, total=   0.0s\n",
      "[CV] C=0.1, gamma=0.001, kernel=rbf ..................................\n",
      "[CV] ... C=0.1, gamma=0.001, kernel=rbf, score=0.875912, total=   0.0s\n",
      "[CV] C=0.1, gamma=0.0001, kernel=rbf .................................\n",
      "[CV] .. C=0.1, gamma=0.0001, kernel=rbf, score=0.869565, total=   0.0s\n",
      "[CV] C=0.1, gamma=0.0001, kernel=rbf .................................\n",
      "[CV] .. C=0.1, gamma=0.0001, kernel=rbf, score=0.869565, total=   0.0s\n",
      "[CV] C=0.1, gamma=0.0001, kernel=rbf .................................\n",
      "[CV] .. C=0.1, gamma=0.0001, kernel=rbf, score=0.875912, total=   0.0s\n",
      "[CV] C=1, gamma=1, kernel=rbf ........................................\n",
      "[CV] ......... C=1, gamma=1, kernel=rbf, score=0.876812, total=   0.0s\n",
      "[CV] C=1, gamma=1, kernel=rbf ........................................\n",
      "[CV] ......... C=1, gamma=1, kernel=rbf, score=0.876812, total=   0.0s\n",
      "[CV] C=1, gamma=1, kernel=rbf ........................................\n",
      "[CV] ......... C=1, gamma=1, kernel=rbf, score=0.875912, total=   0.0s\n",
      "[CV] C=1, gamma=0.1, kernel=rbf ......................................\n",
      "[CV] ....... C=1, gamma=0.1, kernel=rbf, score=0.876812, total=   0.0s\n",
      "[CV] C=1, gamma=0.1, kernel=rbf ......................................\n",
      "[CV] ....... C=1, gamma=0.1, kernel=rbf, score=0.876812, total=   0.0s\n",
      "[CV] C=1, gamma=0.1, kernel=rbf ......................................\n",
      "[CV] ....... C=1, gamma=0.1, kernel=rbf, score=0.875912, total=   0.0s\n",
      "[CV] C=1, gamma=0.01, kernel=rbf .....................................\n",
      "[CV] ...... C=1, gamma=0.01, kernel=rbf, score=0.898551, total=   0.0s\n",
      "[CV] C=1, gamma=0.01, kernel=rbf .....................................\n",
      "[CV] ...... C=1, gamma=0.01, kernel=rbf, score=0.898551, total=   0.0s\n",
      "[CV] C=1, gamma=0.01, kernel=rbf .....................................\n",
      "[CV] ...... C=1, gamma=0.01, kernel=rbf, score=0.905109, total=   0.0s\n",
      "[CV] C=1, gamma=0.001, kernel=rbf ....................................\n",
      "[CV] ..... C=1, gamma=0.001, kernel=rbf, score=0.920290, total=   0.0s\n",
      "[CV] C=1, gamma=0.001, kernel=rbf ....................................\n",
      "[CV] ..... C=1, gamma=0.001, kernel=rbf, score=0.920290, total=   0.0s\n",
      "[CV] C=1, gamma=0.001, kernel=rbf ....................................\n",
      "[CV] ..... C=1, gamma=0.001, kernel=rbf, score=0.927007, total=   0.0s\n",
      "[CV] C=1, gamma=0.0001, kernel=rbf ...................................\n",
      "[CV] .... C=1, gamma=0.0001, kernel=rbf, score=0.869565, total=   0.0s\n",
      "[CV] C=1, gamma=0.0001, kernel=rbf ...................................\n",
      "[CV] .... C=1, gamma=0.0001, kernel=rbf, score=0.869565, total=   0.0s\n",
      "[CV] C=1, gamma=0.0001, kernel=rbf ...................................\n",
      "[CV] .... C=1, gamma=0.0001, kernel=rbf, score=0.875912, total=   0.0s\n",
      "[CV] C=10, gamma=1, kernel=rbf .......................................\n",
      "[CV] ........ C=10, gamma=1, kernel=rbf, score=0.876812, total=   0.0s\n",
      "[CV] C=10, gamma=1, kernel=rbf .......................................\n",
      "[CV] ........ C=10, gamma=1, kernel=rbf, score=0.876812, total=   0.0s\n",
      "[CV] C=10, gamma=1, kernel=rbf .......................................\n",
      "[CV] ........ C=10, gamma=1, kernel=rbf, score=0.875912, total=   0.0s\n",
      "[CV] C=10, gamma=0.1, kernel=rbf .....................................\n",
      "[CV] ...... C=10, gamma=0.1, kernel=rbf, score=0.876812, total=   0.0s\n",
      "[CV] C=10, gamma=0.1, kernel=rbf .....................................\n",
      "[CV] ...... C=10, gamma=0.1, kernel=rbf, score=0.876812, total=   0.0s\n",
      "[CV] C=10, gamma=0.1, kernel=rbf .....................................\n",
      "[CV] ...... C=10, gamma=0.1, kernel=rbf, score=0.875912, total=   0.0s\n",
      "[CV] C=10, gamma=0.01, kernel=rbf ....................................\n",
      "[CV] ..... C=10, gamma=0.01, kernel=rbf, score=0.898551, total=   0.0s\n",
      "[CV] C=10, gamma=0.01, kernel=rbf ....................................\n",
      "[CV] ..... C=10, gamma=0.01, kernel=rbf, score=0.905797, total=   0.0s\n",
      "[CV] C=10, gamma=0.01, kernel=rbf ....................................\n",
      "[CV] ..... C=10, gamma=0.01, kernel=rbf, score=0.912409, total=   0.0s\n",
      "[CV] C=10, gamma=0.001, kernel=rbf ...................................\n",
      "[CV] .... C=10, gamma=0.001, kernel=rbf, score=0.985507, total=   0.0s\n",
      "[CV] C=10, gamma=0.001, kernel=rbf ...................................\n",
      "[CV] .... C=10, gamma=0.001, kernel=rbf, score=0.978261, total=   0.0s\n",
      "[CV] C=10, gamma=0.001, kernel=rbf ...................................\n",
      "[CV] .... C=10, gamma=0.001, kernel=rbf, score=0.941606, total=   0.0s\n",
      "[CV] C=10, gamma=0.0001, kernel=rbf ..................................\n",
      "[CV] ... C=10, gamma=0.0001, kernel=rbf, score=0.942029, total=   0.0s\n",
      "[CV] C=10, gamma=0.0001, kernel=rbf ..................................\n",
      "[CV] ... C=10, gamma=0.0001, kernel=rbf, score=0.927536, total=   0.0s\n",
      "[CV] C=10, gamma=0.0001, kernel=rbf ..................................\n",
      "[CV] ... C=10, gamma=0.0001, kernel=rbf, score=0.948905, total=   0.0s\n",
      "[CV] C=100, gamma=1, kernel=rbf ......................................\n",
      "[CV] ....... C=100, gamma=1, kernel=rbf, score=0.876812, total=   0.0s\n",
      "[CV] C=100, gamma=1, kernel=rbf ......................................\n",
      "[CV] ....... C=100, gamma=1, kernel=rbf, score=0.876812, total=   0.0s\n",
      "[CV] C=100, gamma=1, kernel=rbf ......................................\n",
      "[CV] ....... C=100, gamma=1, kernel=rbf, score=0.875912, total=   0.0s\n",
      "[CV] C=100, gamma=0.1, kernel=rbf ....................................\n",
      "[CV] ..... C=100, gamma=0.1, kernel=rbf, score=0.876812, total=   0.0s\n",
      "[CV] C=100, gamma=0.1, kernel=rbf ....................................\n",
      "[CV] ..... C=100, gamma=0.1, kernel=rbf, score=0.876812, total=   0.0s\n",
      "[CV] C=100, gamma=0.1, kernel=rbf ....................................\n",
      "[CV] ..... C=100, gamma=0.1, kernel=rbf, score=0.875912, total=   0.0s\n",
      "[CV] C=100, gamma=0.01, kernel=rbf ...................................\n",
      "[CV] .... C=100, gamma=0.01, kernel=rbf, score=0.898551, total=   0.0s\n",
      "[CV] C=100, gamma=0.01, kernel=rbf ...................................\n",
      "[CV] .... C=100, gamma=0.01, kernel=rbf, score=0.913043, total=   0.0s\n",
      "[CV] C=100, gamma=0.01, kernel=rbf ...................................\n",
      "[CV] .... C=100, gamma=0.01, kernel=rbf, score=0.912409, total=   0.0s\n",
      "[CV] C=100, gamma=0.001, kernel=rbf ..................................\n",
      "[CV] ... C=100, gamma=0.001, kernel=rbf, score=0.963768, total=   0.0s\n",
      "[CV] C=100, gamma=0.001, kernel=rbf ..................................\n",
      "[CV] ... C=100, gamma=0.001, kernel=rbf, score=0.963768, total=   0.0s\n",
      "[CV] C=100, gamma=0.001, kernel=rbf ..................................\n",
      "[CV] ... C=100, gamma=0.001, kernel=rbf, score=0.934307, total=   0.0s\n",
      "[CV] C=100, gamma=0.0001, kernel=rbf .................................\n",
      "[CV] .. C=100, gamma=0.0001, kernel=rbf, score=0.992754, total=   0.0s\n",
      "[CV] C=100, gamma=0.0001, kernel=rbf .................................\n",
      "[CV] .. C=100, gamma=0.0001, kernel=rbf, score=0.978261, total=   0.0s\n",
      "[CV] C=100, gamma=0.0001, kernel=rbf .................................\n",
      "[CV] .. C=100, gamma=0.0001, kernel=rbf, score=0.934307, total=   0.0s\n",
      "[CV] C=1000, gamma=1, kernel=rbf .....................................\n",
      "[CV] ...... C=1000, gamma=1, kernel=rbf, score=0.876812, total=   0.0s\n",
      "[CV] C=1000, gamma=1, kernel=rbf .....................................\n",
      "[CV] ...... C=1000, gamma=1, kernel=rbf, score=0.876812, total=   0.0s\n",
      "[CV] C=1000, gamma=1, kernel=rbf .....................................\n",
      "[CV] ...... C=1000, gamma=1, kernel=rbf, score=0.875912, total=   0.0s\n",
      "[CV] C=1000, gamma=0.1, kernel=rbf ...................................\n",
      "[CV] .... C=1000, gamma=0.1, kernel=rbf, score=0.876812, total=   0.0s\n",
      "[CV] C=1000, gamma=0.1, kernel=rbf ...................................\n",
      "[CV] .... C=1000, gamma=0.1, kernel=rbf, score=0.876812, total=   0.0s\n",
      "[CV] C=1000, gamma=0.1, kernel=rbf ...................................\n",
      "[CV] .... C=1000, gamma=0.1, kernel=rbf, score=0.875912, total=   0.0s\n",
      "[CV] C=1000, gamma=0.01, kernel=rbf ..................................\n",
      "[CV] ... C=1000, gamma=0.01, kernel=rbf, score=0.898551, total=   0.0s\n",
      "[CV] C=1000, gamma=0.01, kernel=rbf ..................................\n",
      "[CV] ... C=1000, gamma=0.01, kernel=rbf, score=0.913043, total=   0.0s\n",
      "[CV] C=1000, gamma=0.01, kernel=rbf ..................................\n"
     ]
    },
    {
     "name": "stdout",
     "output_type": "stream",
     "text": [
      "[CV] ... C=1000, gamma=0.01, kernel=rbf, score=0.912409, total=   0.0s\n",
      "[CV] C=1000, gamma=0.001, kernel=rbf .................................\n",
      "[CV] .. C=1000, gamma=0.001, kernel=rbf, score=0.963768, total=   0.0s\n",
      "[CV] C=1000, gamma=0.001, kernel=rbf .................................\n",
      "[CV] .. C=1000, gamma=0.001, kernel=rbf, score=0.963768, total=   0.0s\n",
      "[CV] C=1000, gamma=0.001, kernel=rbf .................................\n",
      "[CV] .. C=1000, gamma=0.001, kernel=rbf, score=0.934307, total=   0.0s\n",
      "[CV] C=1000, gamma=0.0001, kernel=rbf ................................\n",
      "[CV] . C=1000, gamma=0.0001, kernel=rbf, score=0.978261, total=   0.0s\n",
      "[CV] C=1000, gamma=0.0001, kernel=rbf ................................\n",
      "[CV] . C=1000, gamma=0.0001, kernel=rbf, score=0.963768, total=   0.0s\n",
      "[CV] C=1000, gamma=0.0001, kernel=rbf ................................\n",
      "[CV] . C=1000, gamma=0.0001, kernel=rbf, score=0.912409, total=   0.0s\n"
     ]
    },
    {
     "name": "stderr",
     "output_type": "stream",
     "text": [
      "[Parallel(n_jobs=1)]: Done  75 out of  75 | elapsed:    1.7s finished\n"
     ]
    }
   ],
   "source": [
    "from sklearn.model_selection import GridSearchCV \n",
    "from sklearn.svm import SVC\n",
    "  \n",
    "# определение диапазона параметров\n",
    "param_grid = {'C': [0.1, 1, 10, 100, 1000],  \n",
    "              'gamma': [1, 0.1, 0.01, 0.001, 0.0001], \n",
    "              'kernel': ['rbf']}  \n",
    "  \n",
    "grid = GridSearchCV(SVC(), param_grid, refit = True, verbose = 3);\n",
    "  \n",
    "# подгонка модели для поиска по сетке (ядро rbf)\n",
    "grid.fit(X_train_scaled, y_train);\n",
    "\n"
   ]
  },
  {
   "cell_type": "code",
   "execution_count": 30,
   "metadata": {},
   "outputs": [
    {
     "name": "stdout",
     "output_type": "stream",
     "text": [
      "{'C': 10, 'gamma': 0.001, 'kernel': 'rbf'}\n"
     ]
    }
   ],
   "source": [
    "print(grid.best_params_) "
   ]
  },
  {
   "cell_type": "code",
   "execution_count": 31,
   "metadata": {},
   "outputs": [
    {
     "name": "stdout",
     "output_type": "stream",
     "text": [
      "\n",
      "=== Quality Report ===\n",
      "Accuracy: \t 0.981\n",
      "Precision: \t 0.868\n",
      "Recall: \t 0.979\n",
      "f1_score: \t 0.920\n",
      "ROC-AUC: \t 0.980\n",
      "======================\n",
      "\n",
      "\n",
      " Test quality:\n",
      "\n",
      "=== Quality Report ===\n",
      "Accuracy: \t 0.949\n",
      "Precision: \t 0.739\n",
      "Recall: \t 0.850\n",
      "f1_score: \t 0.791\n",
      "ROC-AUC: \t 0.906\n",
      "======================\n",
      "\n"
     ]
    }
   ],
   "source": [
    "from sklearn import svm\n",
    "#from sklearn.svm import SVC\n",
    "lin_svm_rbf = svm.SVC(kernel='rbf', C=10, gamma=0.001)\n",
    "lin_svm_rbf.fit(X_train_scaled, y_train)\n",
    "\n",
    "quality_report(lin_svm_rbf.predict(X_train_scaled), y_train);\n",
    "print(\"\\n Test quality:\")\n",
    "df_quality.loc[\"svm_best\", :] =quality_report(lin_svm_rbf.predict(X_test_scaled), y_test);"
   ]
  },
  {
   "cell_type": "code",
   "execution_count": 32,
   "metadata": {},
   "outputs": [
    {
     "name": "stdout",
     "output_type": "stream",
     "text": [
      "\n",
      "=== Quality Report ===\n",
      "Accuracy: \t 0.956\n",
      "Precision: \t 0.660\n",
      "Recall: \t 1.000\n",
      "f1_score: \t 0.795\n",
      "ROC-AUC: \t 0.976\n",
      "======================\n",
      "\n",
      "\n",
      " Test quality:\n",
      "\n",
      "=== Quality Report ===\n",
      "Accuracy: \t 0.916\n",
      "Precision: \t 0.565\n",
      "Recall: \t 0.722\n",
      "f1_score: \t 0.634\n",
      "ROC-AUC: \t 0.830\n",
      "======================\n",
      "\n"
     ]
    }
   ],
   "source": [
    "from sklearn import svm\n",
    "#from sklearn.svm import SVC\n",
    "lin_svm_poly = svm.SVC(kernel='poly', C=1)\n",
    "lin_svm_poly.fit(X_train_scaled, y_train)\n",
    "\n",
    "quality_report(lin_svm_poly.predict(X_train_scaled), y_train);\n",
    "print(\"\\n Test quality:\")\n",
    "quality_report(lin_svm_poly.predict(X_test_scaled), y_test);"
   ]
  },
  {
   "cell_type": "code",
   "execution_count": 33,
   "metadata": {},
   "outputs": [
    {
     "data": {
      "text/html": [
       "<div>\n",
       "<style>\n",
       "    .dataframe thead tr:only-child th {\n",
       "        text-align: right;\n",
       "    }\n",
       "\n",
       "    .dataframe thead th {\n",
       "        text-align: left;\n",
       "    }\n",
       "\n",
       "    .dataframe tbody tr th {\n",
       "        vertical-align: top;\n",
       "    }\n",
       "</style>\n",
       "<table border=\"1\" class=\"dataframe\">\n",
       "  <thead>\n",
       "    <tr style=\"text-align: right;\">\n",
       "      <th></th>\n",
       "      <th>Accuracy</th>\n",
       "      <th>Precision</th>\n",
       "      <th>Recall</th>\n",
       "      <th>f1_score</th>\n",
       "      <th>ROC-AUC</th>\n",
       "    </tr>\n",
       "  </thead>\n",
       "  <tbody>\n",
       "    <tr>\n",
       "      <th>log_reg</th>\n",
       "      <td>0.94382</td>\n",
       "      <td>0.913043</td>\n",
       "      <td>0.724138</td>\n",
       "      <td>0.807692</td>\n",
       "      <td>0.855358</td>\n",
       "    </tr>\n",
       "    <tr>\n",
       "      <th>knn</th>\n",
       "      <td>0.926966</td>\n",
       "      <td>0.434783</td>\n",
       "      <td>1</td>\n",
       "      <td>0.606061</td>\n",
       "      <td>0.96131</td>\n",
       "    </tr>\n",
       "    <tr>\n",
       "      <th>svm_1</th>\n",
       "      <td>0.938202</td>\n",
       "      <td>0.913043</td>\n",
       "      <td>0.7</td>\n",
       "      <td>0.792453</td>\n",
       "      <td>0.843243</td>\n",
       "    </tr>\n",
       "    <tr>\n",
       "      <th>svm_best</th>\n",
       "      <td>0.949438</td>\n",
       "      <td>0.73913</td>\n",
       "      <td>0.85</td>\n",
       "      <td>0.790698</td>\n",
       "      <td>0.906013</td>\n",
       "    </tr>\n",
       "  </tbody>\n",
       "</table>\n",
       "</div>"
      ],
      "text/plain": [
       "          Accuracy Precision    Recall  f1_score   ROC-AUC\n",
       "log_reg    0.94382  0.913043  0.724138  0.807692  0.855358\n",
       "knn       0.926966  0.434783         1  0.606061   0.96131\n",
       "svm_1     0.938202  0.913043       0.7  0.792453  0.843243\n",
       "svm_best  0.949438   0.73913      0.85  0.790698  0.906013"
      ]
     },
     "execution_count": 33,
     "metadata": {},
     "output_type": "execute_result"
    }
   ],
   "source": [
    "df_quality"
   ]
  },
  {
   "cell_type": "markdown",
   "metadata": {},
   "source": [
    "---"
   ]
  }
 ],
 "metadata": {
  "kernelspec": {
   "display_name": "Python 3",
   "language": "python",
   "name": "python3"
  },
  "language_info": {
   "codemirror_mode": {
    "name": "ipython",
    "version": 3
   },
   "file_extension": ".py",
   "mimetype": "text/x-python",
   "name": "python",
   "nbconvert_exporter": "python",
   "pygments_lexer": "ipython3",
   "version": "3.6.1"
  }
 },
 "nbformat": 4,
 "nbformat_minor": 2
}
